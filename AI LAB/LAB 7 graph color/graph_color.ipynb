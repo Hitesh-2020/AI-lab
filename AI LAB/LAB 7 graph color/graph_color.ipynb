{
 "cells": [
  {
   "cell_type": "code",
   "execution_count": 1,
   "metadata": {},
   "outputs": [
    {
     "name": "stdout",
     "output_type": "stream",
     "text": [
      "[1, 2, 3, 4, 5]\n",
      "[(1, 2), (1, 5), (2, 3), (3, 4), (4, 5)]\n",
      "1\n"
     ]
    },
    {
     "data": {
      "image/png": "[encoded data removed]",
      "text/plain": [
       "<Figure size 432x288 with 1 Axes>"
      ]
     },
     "metadata": {},
     "output_type": "display_data"
    }
   ],
   "source": [
    "import networkx as nx\n",
    "\n",
    "n = int(input(\"Enter no. of nodes \"))\n",
    "\n",
    "l = [i for i in range(1,n+1)]\n",
    "\n",
    "print(l)\n",
    "\n",
    "network = nx.Graph()\n",
    "\n",
    "network.add_nodes_from(l)\n",
    "\n",
    "for i in range(1,n):\n",
    "    network.add_edge(i,i+1,weight=i)\n",
    "\n",
    "network.add_edge(1,n,weight = n)\n",
    "\n",
    "print(network.edges())\n",
    "\n",
    "print(network.get_edge_data(1, 2)['weight'])\n",
    "\n",
    "color_list = []\n",
    "\n",
    "for i in network.edges():\n",
    "    if network.get_edge_data(i[0],i[1])['weight'] < 3:\n",
    "        color_list.append(\"red\")\n",
    "    else:\n",
    "        color_list.append(\"blue\")\n",
    "    \n",
    "\n",
    "nx.draw(network,node_color = color_list,with_labels = True)"
   ]
  },
  {
   "cell_type": "code",
   "execution_count": 2,
   "metadata": {},
   "outputs": [
    {
     "name": "stdout",
     "output_type": "stream",
     "text": [
      "Found!\n",
      "[[0, 0], [0, 3], [2, 1]]\n"
     ]
    },
    {
     "data": {
      "text/plain": [
       "'1'"
      ]
     },
     "execution_count": 2,
     "metadata": {},
     "output_type": "execute_result"
    }
   ],
   "source": [
    "x_capacity = int(input(\"Enter Jug 1 capacity:\"))\n",
    "y_capacity = int(input(\"Enter Jug 2 capacity:\"))\n",
    "end = int(input(\"Enter target volume:\"))\n",
    "\n",
    "def bfs(start, end, x_capacity, y_capacity):\n",
    "\tpath = []\n",
    "\tfront = []\n",
    "\tfront.append(start)\n",
    "\tvisited = []\n",
    "\t#visited.append(start)\n",
    "\twhile(not (not front)):\n",
    "\t\tcurrent = front.pop()\n",
    "\t\tx = current[0]\n",
    "\t\ty = current[1]\n",
    "\t\tpath.append(current)\n",
    "\t\tif x == end or y == end:\n",
    "\t\t\tprint(\"Found!\")\n",
    "\t\t\treturn path\n",
    "\t\t# rule 1\n",
    "\t\tif current[0] < x_capacity and ([x_capacity, current[1]] not in visited):\n",
    "\t\t\tfront.append([x_capacity, current[1]])\n",
    "\t\t\tvisited.append([x_capacity, current[1]])\n",
    "\n",
    "\t\t# rule 2\n",
    "\t\tif current[1] < y_capacity and ([current[0], y_capacity] not in visited):\n",
    "\t\t\tfront.append([current[0], y_capacity])\n",
    "\t\t\tvisited.append([current[0], y_capacity])\n",
    "\n",
    "\t\t# rule 3\n",
    "\t\tif current[0] > x_capacity and ([0, current[1]] not in visited):\n",
    "\t\t\tfront.append([0, current[1]])\n",
    "\t\t\tvisited.append([0, current[1]])\n",
    "\n",
    "\t\t# rule 4\n",
    "\t\tif current[1] > y_capacity and ([x_capacity, 0] not in visited):\n",
    "\t\t\tfront.append([x_capacity, 0])\n",
    "\t\t\tvisited.append([x_capacity, 0])\n",
    "\n",
    "\t\t# rule 5\n",
    "\t\t#(x, y) -> (min(x + y, x_capacity), max(0, x + y - x_capacity)) if y > 0\n",
    "\t\tif current[1] > 0 and ([min(x + y, x_capacity), max(0, x + y - x_capacity)] not in visited):\n",
    "\t\t\tfront.append([min(x + y, x_capacity), max(0, x + y - x_capacity)])\n",
    "\t\t\tvisited.append([min(x + y, x_capacity), max(0, x + y - x_capacity)])\n",
    "\n",
    "\t\t# rule 6\n",
    "\t\t# (x, y) -> (max(0, x + y - y_capacity), min(x + y, y_capacity)) if x > 0\n",
    "\t\tif current[0] > 0  and ([max(0, x + y - y_capacity), min(x + y, y_capacity)] not in visited):\n",
    "\t\t\tfront.append([max(0, x + y - y_capacity), min(x + y, y_capacity)])\n",
    "\t\t\tvisited.append([max(0, x + y - y_capacity), min(x + y, y_capacity)])\n",
    "\n",
    "\treturn \"Not found\"\n",
    "\n",
    "def gcd(a, b):\n",
    "\tif a == 0:\n",
    "\t\treturn b\n",
    "\treturn gcd(b%a, a)\n",
    "\n",
    "# start state: x = 0 , y = 0\n",
    "start = [0, 0] \n",
    "#end = 2\n",
    "#x_capacity = 4\n",
    "#y_capacity = 3\n",
    "\n",
    "# condition for getting a solution:\n",
    "# the target volume 'end' should be a multiple of gcd(a,b)\n",
    "\n",
    "if end % gcd(x_capacity,y_capacity) == 0:\n",
    "\tprint(bfs(start, end, x_capacity, y_capacity))\n",
    "else:\n",
    "\tprint(\"No solution possible for this combination.\")\n",
    "\n",
    "input()\n"
   ]
  }
 ],
 "metadata": {
  "interpreter": {
   "hash": "63fd5069d213b44bf678585dea6b12cceca9941eaf7f819626cde1f2670de90d"
  },
  "kernelspec": {
   "display_name": "Python 3.9.8 64-bit",
   "language": "python",
   "name": "python3"
  },
  "language_info": {
   "codemirror_mode": {
    "name": "ipython",
    "version": 3
   },
   "file_extension": ".py",
   "mimetype": "text/x-python",
   "name": "python",
   "nbconvert_exporter": "python",
   "pygments_lexer": "ipython3",
   "version": "3.9.8"
  },
  "orig_nbformat": 4
 },
 "nbformat": 4,
 "nbformat_minor": 2
}
