{
 "cells": [
  {
   "cell_type": "code",
   "execution_count": 23,
   "metadata": {},
   "outputs": [
    {
     "name": "stdout",
     "output_type": "stream",
     "text": [
      "\n",
      "Factorial of 5 = 120\n"
     ]
    }
   ],
   "source": [
    "def fact(n):\n",
    "    for i in range(2,n): n = n * i\n",
    "    \n",
    "    return n\n",
    "\n",
    "n = int(input('Enter a no : '))\n",
    "\n",
    "print(f'\\nFactorial of {n} = {fact(n)}')"
   ]
  },
  {
   "cell_type": "code",
   "execution_count": 24,
   "metadata": {},
   "outputs": [
    {
     "name": "stdout",
     "output_type": "stream",
     "text": [
      "\n",
      "Fibonacci Series for (0-50) :\n",
      "\n",
      "0 1 1 2 3 5 8 13 21 34 "
     ]
    }
   ],
   "source": [
    "def fib(n):\n",
    "    a = 0\n",
    "    b = 1\n",
    "    c = a + b\n",
    "    \n",
    "    print('0 1',end = ' ')\n",
    "\n",
    "    while(c <= n):\n",
    "        print(c,end = ' ')\n",
    "        a = b\n",
    "        b = c\n",
    "        c = a + b\n",
    "\n",
    "n = int(input('Enter a no : '))\n",
    "\n",
    "print(f'\\nFibonacci Series for ({0}-{n}) :\\n')\n",
    "fib(n)"
   ]
  },
  {
   "cell_type": "code",
   "execution_count": 15,
   "metadata": {},
   "outputs": [
    {
     "name": "stdout",
     "output_type": "stream",
     "text": [
      "[4, 3, 2, 1, 0, 1, 2, 3, 4]\n"
     ]
    }
   ],
   "source": [
    "l = list(range(5-1,0,-1))\n",
    "l.extend(list(range(5)))\n",
    "print(l)"
   ]
  },
  {
   "cell_type": "code",
   "execution_count": 8,
   "metadata": {},
   "outputs": [
    {
     "name": "stdout",
     "output_type": "stream",
     "text": [
      "[1, 2, 3, 4, 5, 6, 0, 1]\n",
      "[2, 4, 8, 16, 32, 64, 1, 2]\n",
      "[1, 4, 12, 32, 80, 192, 0.0, 1]\n"
     ]
    }
   ],
   "source": [
    "x=2\n",
    "\n",
    "l = list(map(int,input('Enter a list: ').split()))\n",
    "fx = []\n",
    "f2x = []\n",
    "\n",
    "print(l)\n",
    "\n",
    "for i in range(len(l)):\n",
    "    fx.append(x**l[i])\n",
    "\n",
    "print(fx)\n",
    "\n",
    "for i in range(len(l)):\n",
    "    f2x.append(l[i] * x**(l[i]-1))\n",
    "\n",
    "print(f2x)"
   ]
  },
  {
   "cell_type": "code",
   "execution_count": 50,
   "metadata": {},
   "outputs": [
    {
     "name": "stdout",
     "output_type": "stream",
     "text": [
      "False\n"
     ]
    }
   ],
   "source": [
    "adj_list = {'S':[('A',1),('B',2)],\n",
    "            'A':[('Y',7),('X',4)],\n",
    "            'B':[('C',7),(('D',1))],\n",
    "            'Y':[('E',3)],\n",
    "            'X':[('E',2)],\n",
    "            'C':[('E',5)],\n",
    "            'D':[('E',12)]\n",
    "            }\n",
    "\n",
    "print(('E',5) not in adj_list['C'])\n"
   ]
  },
  {
   "cell_type": "code",
   "execution_count": 12,
   "metadata": {},
   "outputs": [
    {
     "name": "stdout",
     "output_type": "stream",
     "text": [
      "(2, 2, 'A')\n"
     ]
    }
   ],
   "source": [
    "d = {'a':1,}"
   ]
  },
  {
   "cell_type": "code",
   "execution_count": 32,
   "metadata": {},
   "outputs": [
    {
     "name": "stdout",
     "output_type": "stream",
     "text": [
      "{'a': 5, 'b': 4, ('c', 'd', 'f'): 50, ('c', 'd', 'e'): 5, 'd': 2, 'e': 1}\n",
      "True\n"
     ]
    }
   ],
   "source": [
    "l = [['a',5],['b',4],[('c','d'),3],['d',2],['e',1]]\n",
    "k = 0\n",
    "\n",
    "while k != len(l):\n",
    "    \n",
    "    if k == 2:\n",
    "        temp = l.pop(k)\n",
    "        \n",
    "        l.insert(k,[temp[0]+('e',),5])\n",
    "        l.insert(k,[temp[0]+('f',),50])\n",
    "\n",
    "    k = k + 1\n",
    "\n",
    "d = dict(l)\n",
    "print(d)\n",
    "print(['b',4] in l)\n"
   ]
  },
  {
   "cell_type": "code",
   "execution_count": 1,
   "metadata": {},
   "outputs": [
    {
     "name": "stdout",
     "output_type": "stream",
     "text": [
      "Optimal Path from S to G: ('S', 'C', 'D', 'E', 'G') with Path COST: 17\n",
      "\n",
      "Time Complexity = 0.0003684000000001575\n"
     ]
    }
   ],
   "source": [
    "from timeit import default_timer\n",
    "\n",
    "class Graph:\n",
    "    f = []\n",
    "\n",
    "    def __init__(self,adj,h = {}):\n",
    "        self.adj_list = adj\n",
    "        \n",
    "        if h == {}:\n",
    "            for i in adj:\n",
    "                for j in adj[i]:\n",
    "                    h[j[0]] = 1\n",
    "            \n",
    "        self.h = h\n",
    "        \n",
    "\n",
    "    def fninsert(self,cur):\n",
    "        k = 0\n",
    "\n",
    "        while k != len(Graph.f):\n",
    "            if Graph.f[k][1][-1] == cur:\n",
    "                temp = Graph.f.pop(k)\n",
    "\n",
    "                for i in self.adj_list[cur]:\n",
    "                    Graph.f.insert(k,[ (temp[0] - self.h[cur] + i[1] + self.h[i[0]]), temp[1] + (i[0],) ])\n",
    "        \n",
    "            k = k + 1\n",
    "\n",
    "\n",
    "    def isExpandable(self,start,goal):\n",
    "        if min(Graph.f)[1][-1] == goal:\n",
    "                    return 2\n",
    "\n",
    "        for path in Graph.f:\n",
    "            if path[1][-1] != goal and path[1][-1] in self.adj_list:\n",
    "                if len(self.adj_list[path[1][-1]]) != 1:\n",
    "                    return 1\n",
    "                elif self.adj_list[path[1][-1][0]][0] != start:\n",
    "                    return 1\n",
    "                else:\n",
    "                    return 0\n",
    "\n",
    "\n",
    "    def astar(self,start,goal):\n",
    "        stTime = default_timer()\n",
    "\n",
    "        Graph.f.clear()\n",
    "        \n",
    "        flag = 1\n",
    "\n",
    "        if start not in self.adj_list:\n",
    "            flag = 0\n",
    "          \n",
    "        self.h[goal] = 0\n",
    "        \n",
    "        while flag == 1:\n",
    "\n",
    "            if Graph.f == []:\n",
    "                for i in self.adj_list[start]:\n",
    "                    Graph.f.append([i[1] + self.h[i[0]], (start,i[0])])\n",
    "            else:\n",
    "                for i in Graph.f:\n",
    "                    minfn = min(Graph.f)\n",
    "\n",
    "                    if i[1][-1] != goal and minfn == i:\n",
    "                        self.fninsert(i[1][-1])\n",
    "                \n",
    "                flag = self.isExpandable(start,goal)\n",
    "        \n",
    "        if flag == 2:\n",
    "            print(f'Optimal Path from {start} to {goal}: {min(Graph.f)[1]} with Path COST: {min(Graph.f)[0]}')\n",
    "        else:\n",
    "            print('\\n!!Path not possible!!')\n",
    "\n",
    "        print('\\nTime Complexity =',default_timer()-stTime)            \n",
    "\n",
    "\n",
    "\n",
    "# adj_list = {'S':[('A',1),('B',2)],\n",
    "#             'A':[('Y',7),('X',4)],\n",
    "#             'B':[('C',7),(('D',1))],\n",
    "#             'Y':[('E',3)],\n",
    "#             'X':[('E',2)],\n",
    "#             'C':[('E',5)],\n",
    "#             'D':[('E',12)]\n",
    "#             }\n",
    "\n",
    "# h = {'A':5,\n",
    "#      'B':6,\n",
    "#      'C':4,\n",
    "#      'D':15,\n",
    "#      'X':5,\n",
    "#      'Y':8\n",
    "#     }\n",
    "\n",
    "# adj_list = {\n",
    "#     'A': [('B', 1), ('C', 3), ('D', 7)],\n",
    "#     'B': [('D', 5)],\n",
    "#     'C': [('D', 12)]\n",
    "# }\n",
    "\n",
    "\n",
    "adj_list = {'S':[('B',4),('C',3)],\n",
    "            'B':[('E',12),('F',5)],\n",
    "            'C':[('D',7),('E',10)],\n",
    "            'D':[('E',2)],\n",
    "            'E':[('G',5)],\n",
    "            'F':[('G',16)]\n",
    "}\n",
    "\n",
    "h = {'S':14,\n",
    "     'B':12,\n",
    "     'C':11,\n",
    "     'D':6,\n",
    "     'E':4,\n",
    "     'F':11\n",
    "}\n",
    "\n",
    "\n",
    "g = Graph(adj_list,h)\n",
    "\n",
    "g.astar('S','G')"
   ]
  },
  {
   "cell_type": "code",
   "execution_count": 3,
   "metadata": {},
   "outputs": [
    {
     "name": "stdout",
     "output_type": "stream",
     "text": [
      "[[('A', 'B'), ('C', 'D')], 1]\n"
     ]
    }
   ],
   "source": [
    "fn = [[[('A','B'),('C','D')],1],[('b','W'),10],[('d'),6]]\n",
    "\n",
    "print(min(fn,key = lambda x:x[1]))"
   ]
  },
  {
   "cell_type": "code",
   "execution_count": 28,
   "metadata": {},
   "outputs": [
    {
     "name": "stdout",
     "output_type": "stream",
     "text": [
      "[[[('A', 'B'), ('A', 'C')], 1], [[('A', 'D')], 2]]\n"
     ]
    }
   ],
   "source": [
    "gn = [[[('A', 'B'), ('A', 'C')], 1], [[('B', 'D')], 2], [[('A', 'D')], 2]]\n",
    "\n",
    "# print(filter(key = lambda x:x[0][0][0]=='A',gn))\n",
    "f = filter(lambda t: t[0][0][0] == 'A', gn)\n",
    "print(list(f))\n",
    "# print(min([i for i in gn if i[0][0][0] == 'A'], key = lambda x:x[1]))"
   ]
  },
  {
   "cell_type": "code",
   "execution_count": 27,
   "metadata": {},
   "outputs": [
    {
     "name": "stdout",
     "output_type": "stream",
     "text": [
      "[1, 3, 5, 13]\n",
      "[0, 2, 8]\n"
     ]
    }
   ],
   "source": [
    "# a list contains both even and odd numbers. \n",
    "seq = [0, 1, 2, 3, 5, 8, 13]\n",
    "\n",
    "# result contains odd numbers of the list\n",
    "result = filter(lambda x: x % 2 != 0, seq)\n",
    "print(list(result))\n",
    "  \n",
    "# result contains even numbers of the list\n",
    "result = filter(lambda x: x % 2 == 0, seq)\n",
    "print(list(result))"
   ]
  },
  {
   "cell_type": "code",
   "execution_count": 10,
   "metadata": {},
   "outputs": [
    {
     "name": "stdout",
     "output_type": "stream",
     "text": [
      "720\n"
     ]
    }
   ],
   "source": [
    "def fact(n):\n",
    "    if n == 1 or n == 0:\n",
    "        return 1\n",
    "    else:\n",
    "        return n*fact(n-1)\n",
    "\n",
    "def fact1(n):\n",
    "    if n == 0:\n",
    "        return 1\n",
    "    else:\n",
    "        for i in range(1,n):\n",
    "            n *= i\n",
    "        return n\n",
    "\n",
    "n = int(input('np : '))\n",
    "\n",
    "p = fact1(n)\n",
    "\n",
    "print(p)\n",
    "# print(fact(int(input('Enter a no:'))))0"
   ]
  },
  {
   "cell_type": "code",
   "execution_count": 11,
   "metadata": {},
   "outputs": [
    {
     "name": "stdout",
     "output_type": "stream",
     "text": [
      "B\n"
     ]
    }
   ],
   "source": [
    "fn = [[[('A', 'B'), ('A', 'C')], 12], [[('A', 'D')], 13]]\n",
    "minfn = min(fn, key = lambda x:x[1])\n",
    "print(minfn[0][0][-1])"
   ]
  }
 ],
 "metadata": {
  "interpreter": {
   "hash": "63fd5069d213b44bf678585dea6b12cceca9941eaf7f819626cde1f2670de90d"
  },
  "kernelspec": {
   "display_name": "Python 3.9.8 64-bit",
   "language": "python",
   "name": "python3"
  },
  "language_info": {
   "codemirror_mode": {
    "name": "ipython",
    "version": 3
   },
   "file_extension": ".py",
   "mimetype": "text/x-python",
   "name": "python",
   "nbconvert_exporter": "python",
   "pygments_lexer": "ipython3",
   "version": "3.9.8"
  },
  "orig_nbformat": 4
 },
 "nbformat": 4,
 "nbformat_minor": 2
}
